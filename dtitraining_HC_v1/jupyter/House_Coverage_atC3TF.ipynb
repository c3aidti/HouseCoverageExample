{
 "cells": [
  {
   "cell_type": "code",
   "execution_count": 1,
   "metadata": {},
   "outputs": [
    {
     "name": "stdout",
     "output_type": "stream",
     "text": [
      "Username: BA\n",
      "Password: ········\n"
     ]
    }
   ],
   "source": [
    "# If we aren't on a c3 container, we need to get the c3 object.\n",
    "# the container default password and username are \"BA\"\n",
    "try:\n",
    "    c3\n",
    "except:\n",
    "    from c3python import get_c3\n",
    "    #c3 = get_c3('http://0.0.0.0:8080', 'test', 'dtitraining_HC_v1', 'thick')\n",
    "    c3 = get_c3('http://0.0.0.0:8080', 'test', 'Yifang_HC', 'thick')"
   ]
  },
  {
   "cell_type": "code",
   "execution_count": 2,
   "metadata": {},
   "outputs": [
    {
     "data": {
      "text/html": [
       "<div>\n",
       "<style scoped>\n",
       "    .dataframe tbody tr th:only-of-type {\n",
       "        vertical-align: middle;\n",
       "    }\n",
       "\n",
       "    .dataframe tbody tr th {\n",
       "        vertical-align: top;\n",
       "    }\n",
       "\n",
       "    .dataframe thead th {\n",
       "        text-align: right;\n",
       "    }\n",
       "</style>\n",
       "<table border=\"1\" class=\"dataframe\">\n",
       "  <thead>\n",
       "    <tr style=\"text-align: right;\">\n",
       "      <th></th>\n",
       "      <th>type</th>\n",
       "      <th>id</th>\n",
       "      <th>meta</th>\n",
       "      <th>version</th>\n",
       "      <th>med10_age</th>\n",
       "      <th>pct_i_l</th>\n",
       "      <th>pct_t_l</th>\n",
       "      <th>prp_res_lr</th>\n",
       "      <th>pop10_ha_lr</th>\n",
       "      <th>hu10_ha_lr</th>\n",
       "      <th>eroom_ha_lr</th>\n",
       "      <th>prp_bf_lr</th>\n",
       "    </tr>\n",
       "  </thead>\n",
       "  <tbody>\n",
       "    <tr>\n",
       "      <th>0</th>\n",
       "      <td>BlockInfo</td>\n",
       "      <td>530359401004</td>\n",
       "      <td>{'type': 'Meta', 'fetchInclude': '[pct_i_l,pct...</td>\n",
       "      <td>1</td>\n",
       "      <td>1978.0</td>\n",
       "      <td>15.504003</td>\n",
       "      <td>44.014487</td>\n",
       "      <td>0.771157</td>\n",
       "      <td>8.804554</td>\n",
       "      <td>4.048071</td>\n",
       "      <td>21.454775</td>\n",
       "      <td>0.075343</td>\n",
       "    </tr>\n",
       "    <tr>\n",
       "      <th>1</th>\n",
       "      <td>BlockInfo</td>\n",
       "      <td>530359401002</td>\n",
       "      <td>{'type': 'Meta', 'fetchInclude': '[pct_i_l,pct...</td>\n",
       "      <td>1</td>\n",
       "      <td>1979.0</td>\n",
       "      <td>7.094398</td>\n",
       "      <td>59.561575</td>\n",
       "      <td>0.811293</td>\n",
       "      <td>1.808341</td>\n",
       "      <td>0.862481</td>\n",
       "      <td>5.174888</td>\n",
       "      <td>0.027872</td>\n",
       "    </tr>\n",
       "    <tr>\n",
       "      <th>2</th>\n",
       "      <td>BlockInfo</td>\n",
       "      <td>530359400002</td>\n",
       "      <td>{'type': 'Meta', 'fetchInclude': '[pct_i_l,pct...</td>\n",
       "      <td>1</td>\n",
       "      <td>1985.0</td>\n",
       "      <td>2.941183</td>\n",
       "      <td>69.144427</td>\n",
       "      <td>0.917720</td>\n",
       "      <td>1.584815</td>\n",
       "      <td>0.775005</td>\n",
       "      <td>4.340028</td>\n",
       "      <td>0.017071</td>\n",
       "    </tr>\n",
       "    <tr>\n",
       "      <th>3</th>\n",
       "      <td>BlockInfo</td>\n",
       "      <td>530359400001</td>\n",
       "      <td>{'type': 'Meta', 'fetchInclude': '[pct_i_l,pct...</td>\n",
       "      <td>1</td>\n",
       "      <td>1988.0</td>\n",
       "      <td>7.860382</td>\n",
       "      <td>51.629077</td>\n",
       "      <td>0.791335</td>\n",
       "      <td>3.992228</td>\n",
       "      <td>1.830507</td>\n",
       "      <td>10.250839</td>\n",
       "      <td>0.035959</td>\n",
       "    </tr>\n",
       "    <tr>\n",
       "      <th>4</th>\n",
       "      <td>BlockInfo</td>\n",
       "      <td>530350929022</td>\n",
       "      <td>{'type': 'Meta', 'fetchInclude': '[pct_i_l,pct...</td>\n",
       "      <td>1</td>\n",
       "      <td>1979.0</td>\n",
       "      <td>11.596608</td>\n",
       "      <td>49.368363</td>\n",
       "      <td>0.981577</td>\n",
       "      <td>4.720380</td>\n",
       "      <td>1.686727</td>\n",
       "      <td>8.770982</td>\n",
       "      <td>0.040964</td>\n",
       "    </tr>\n",
       "  </tbody>\n",
       "</table>\n",
       "</div>"
      ],
      "text/plain": [
       "        type            id                                               meta  \\\n",
       "0  BlockInfo  530359401004  {'type': 'Meta', 'fetchInclude': '[pct_i_l,pct...   \n",
       "1  BlockInfo  530359401002  {'type': 'Meta', 'fetchInclude': '[pct_i_l,pct...   \n",
       "2  BlockInfo  530359400002  {'type': 'Meta', 'fetchInclude': '[pct_i_l,pct...   \n",
       "3  BlockInfo  530359400001  {'type': 'Meta', 'fetchInclude': '[pct_i_l,pct...   \n",
       "4  BlockInfo  530350929022  {'type': 'Meta', 'fetchInclude': '[pct_i_l,pct...   \n",
       "\n",
       "   version  med10_age    pct_i_l    pct_t_l  prp_res_lr  pop10_ha_lr  \\\n",
       "0        1     1978.0  15.504003  44.014487    0.771157     8.804554   \n",
       "1        1     1979.0   7.094398  59.561575    0.811293     1.808341   \n",
       "2        1     1985.0   2.941183  69.144427    0.917720     1.584815   \n",
       "3        1     1988.0   7.860382  51.629077    0.791335     3.992228   \n",
       "4        1     1979.0  11.596608  49.368363    0.981577     4.720380   \n",
       "\n",
       "   hu10_ha_lr  eroom_ha_lr  prp_bf_lr  \n",
       "0    4.048071    21.454775   0.075343  \n",
       "1    0.862481     5.174888   0.027872  \n",
       "2    0.775005     4.340028   0.017071  \n",
       "3    1.830507    10.250839   0.035959  \n",
       "4    1.686727     8.770982   0.040964  "
      ]
     },
     "execution_count": 2,
     "metadata": {},
     "output_type": "execute_result"
    }
   ],
   "source": [
    "import pandas as pd\n",
    "\n",
    "raw_df = c3.BlockInfo.fetch(spec={\n",
    "    'limit': -1,\n",
    "    'filter': 'exists(prp_bf_lr)',\n",
    "    'order': 'descending(id)',\n",
    "    'include': 'pct_i_l,pct_t_l,prp_res_lr,pop10_ha_lr,hu10_ha_lr,eroom_ha_lr,med10_age,prp_bf_lr'\n",
    "})\n",
    "\n",
    "df = pd.DataFrame(raw_df.objs.toJson())\n",
    "df.head()"
   ]
  },
  {
   "cell_type": "code",
   "execution_count": 3,
   "metadata": {},
   "outputs": [
    {
     "data": {
      "text/html": [
       "<div>\n",
       "<style scoped>\n",
       "    .dataframe tbody tr th:only-of-type {\n",
       "        vertical-align: middle;\n",
       "    }\n",
       "\n",
       "    .dataframe tbody tr th {\n",
       "        vertical-align: top;\n",
       "    }\n",
       "\n",
       "    .dataframe thead th {\n",
       "        text-align: right;\n",
       "    }\n",
       "</style>\n",
       "<table border=\"1\" class=\"dataframe\">\n",
       "  <thead>\n",
       "    <tr style=\"text-align: right;\">\n",
       "      <th></th>\n",
       "      <th>med10_age</th>\n",
       "      <th>pct_i_l</th>\n",
       "      <th>pct_t_l</th>\n",
       "      <th>prp_res_lr</th>\n",
       "      <th>pop10_ha_lr</th>\n",
       "      <th>hu10_ha_lr</th>\n",
       "      <th>eroom_ha_lr</th>\n",
       "      <th>prp_bf_lr</th>\n",
       "    </tr>\n",
       "  </thead>\n",
       "  <tbody>\n",
       "    <tr>\n",
       "      <th>0</th>\n",
       "      <td>1978.0</td>\n",
       "      <td>15.504003</td>\n",
       "      <td>44.014487</td>\n",
       "      <td>0.771157</td>\n",
       "      <td>8.804554</td>\n",
       "      <td>4.048071</td>\n",
       "      <td>21.454775</td>\n",
       "      <td>0.075343</td>\n",
       "    </tr>\n",
       "    <tr>\n",
       "      <th>1</th>\n",
       "      <td>1979.0</td>\n",
       "      <td>7.094398</td>\n",
       "      <td>59.561575</td>\n",
       "      <td>0.811293</td>\n",
       "      <td>1.808341</td>\n",
       "      <td>0.862481</td>\n",
       "      <td>5.174888</td>\n",
       "      <td>0.027872</td>\n",
       "    </tr>\n",
       "    <tr>\n",
       "      <th>2</th>\n",
       "      <td>1985.0</td>\n",
       "      <td>2.941183</td>\n",
       "      <td>69.144427</td>\n",
       "      <td>0.917720</td>\n",
       "      <td>1.584815</td>\n",
       "      <td>0.775005</td>\n",
       "      <td>4.340028</td>\n",
       "      <td>0.017071</td>\n",
       "    </tr>\n",
       "    <tr>\n",
       "      <th>3</th>\n",
       "      <td>1988.0</td>\n",
       "      <td>7.860382</td>\n",
       "      <td>51.629077</td>\n",
       "      <td>0.791335</td>\n",
       "      <td>3.992228</td>\n",
       "      <td>1.830507</td>\n",
       "      <td>10.250839</td>\n",
       "      <td>0.035959</td>\n",
       "    </tr>\n",
       "    <tr>\n",
       "      <th>4</th>\n",
       "      <td>1979.0</td>\n",
       "      <td>11.596608</td>\n",
       "      <td>49.368363</td>\n",
       "      <td>0.981577</td>\n",
       "      <td>4.720380</td>\n",
       "      <td>1.686727</td>\n",
       "      <td>8.770982</td>\n",
       "      <td>0.040964</td>\n",
       "    </tr>\n",
       "  </tbody>\n",
       "</table>\n",
       "</div>"
      ],
      "text/plain": [
       "   med10_age    pct_i_l    pct_t_l  prp_res_lr  pop10_ha_lr  hu10_ha_lr  \\\n",
       "0     1978.0  15.504003  44.014487    0.771157     8.804554    4.048071   \n",
       "1     1979.0   7.094398  59.561575    0.811293     1.808341    0.862481   \n",
       "2     1985.0   2.941183  69.144427    0.917720     1.584815    0.775005   \n",
       "3     1988.0   7.860382  51.629077    0.791335     3.992228    1.830507   \n",
       "4     1979.0  11.596608  49.368363    0.981577     4.720380    1.686727   \n",
       "\n",
       "   eroom_ha_lr  prp_bf_lr  \n",
       "0    21.454775   0.075343  \n",
       "1     5.174888   0.027872  \n",
       "2     4.340028   0.017071  \n",
       "3    10.250839   0.035959  \n",
       "4     8.770982   0.040964  "
      ]
     },
     "execution_count": 3,
     "metadata": {},
     "output_type": "execute_result"
    }
   ],
   "source": [
    "df.drop('meta', axis=1, inplace=True)\n",
    "df.drop('type', axis=1, inplace=True)\n",
    "df.drop('version', axis=1, inplace=True)\n",
    "df.drop('id', axis=1, inplace=True)\n",
    "df.head()"
   ]
  },
  {
   "cell_type": "code",
   "execution_count": 4,
   "metadata": {},
   "outputs": [
    {
     "data": {
      "text/plain": [
       "19328"
      ]
     },
     "execution_count": 4,
     "metadata": {},
     "output_type": "execute_result"
    }
   ],
   "source": [
    "len(df)"
   ]
  },
  {
   "cell_type": "code",
   "execution_count": 5,
   "metadata": {},
   "outputs": [
    {
     "data": {
      "text/plain": [
       "dtype('float64')"
      ]
     },
     "execution_count": 5,
     "metadata": {},
     "output_type": "execute_result"
    }
   ],
   "source": [
    "## checking the each column type ##\n",
    "df.eroom_ha_lr.dtype"
   ]
  },
  {
   "cell_type": "code",
   "execution_count": 6,
   "metadata": {},
   "outputs": [],
   "source": [
    "## filling all NAs with the mean value of that field.\n",
    "df = df.fillna(df.mean())"
   ]
  },
  {
   "cell_type": "code",
   "execution_count": 7,
   "metadata": {},
   "outputs": [],
   "source": [
    "##df.values"
   ]
  },
  {
   "cell_type": "code",
   "execution_count": 8,
   "metadata": {},
   "outputs": [],
   "source": [
    "import numpy as np\n",
    "import tensorflow as tf"
   ]
  },
  {
   "cell_type": "code",
   "execution_count": 9,
   "metadata": {},
   "outputs": [],
   "source": [
    "np.random.seed(1014)"
   ]
  },
  {
   "cell_type": "code",
   "execution_count": 10,
   "metadata": {},
   "outputs": [
    {
     "data": {
      "text/plain": [
       "(15463, 3865)"
      ]
     },
     "execution_count": 10,
     "metadata": {},
     "output_type": "execute_result"
    }
   ],
   "source": [
    "## random shaffling the dataset ##\n",
    "values = df.values\n",
    "np.random.shuffle(values)\n",
    "\n",
    "## assign randomly 1:5\n",
    "test_size = len(df) // 5    # test size floor (1/5) \n",
    "training, test = values[:-test_size], values[-test_size:]  # split by row to \n",
    "\n",
    "len(training), len(test)"
   ]
  },
  {
   "cell_type": "code",
   "execution_count": 11,
   "metadata": {},
   "outputs": [
    {
     "data": {
      "text/plain": [
       "array([[1.97500000e+03, 2.99832402e+01, 3.31036623e+00, ...,\n",
       "        4.06115954e+00, 2.80220008e+01, 1.19859383e-01],\n",
       "       [1.99500000e+03, 2.11847751e+01, 3.05377163e+01, ...,\n",
       "        4.80605780e+00, 4.32545202e+01, 1.05583448e-01],\n",
       "       [1.93900000e+03, 2.38866856e+01, 3.69660057e+01, ...,\n",
       "        9.07093534e+00, 8.16384181e+01, 1.71158778e-01],\n",
       "       ...,\n",
       "       [1.95400000e+03, 5.66980392e+01, 4.42352941e+00, ...,\n",
       "        1.68836806e+01, 1.02990451e+02, 2.69082160e-01],\n",
       "       [1.95600000e+03, 2.02797732e+01, 3.35179584e+01, ...,\n",
       "        7.17964890e+00, 4.88216125e+01, 9.54553063e-02],\n",
       "       [1.98400000e+03, 6.68272358e+01, 2.09349593e+00, ...,\n",
       "        1.63279133e+01, 8.00067751e+01, 3.27474964e-01]])"
      ]
     },
     "execution_count": 11,
     "metadata": {},
     "output_type": "execute_result"
    }
   ],
   "source": [
    "test"
   ]
  },
  {
   "cell_type": "code",
   "execution_count": 12,
   "metadata": {},
   "outputs": [
    {
     "data": {
      "text/plain": [
       "array([0.11985938, 0.10558345, 0.17115878, ..., 0.26908216, 0.09545531,\n",
       "       0.32747496])"
      ]
     },
     "execution_count": 12,
     "metadata": {},
     "output_type": "execute_result"
    }
   ],
   "source": [
    "## assinging features and labels, labels = many features with different correlations\n",
    "training_features, training_labels = training[:, :-1], training[:, -1]\n",
    "test_features, test_labels = test[:, :-1], test[:, -1]\n",
    "test_labels"
   ]
  },
  {
   "cell_type": "code",
   "execution_count": 13,
   "metadata": {},
   "outputs": [
    {
     "data": {
      "text/plain": [
       "array([[0.54545455, 0.30675941, 0.04418664, ..., 0.00681223, 0.00303954,\n",
       "        0.0063554 ],\n",
       "       [0.84848485, 0.21551865, 0.40761622, ..., 0.00980986, 0.00359705,\n",
       "        0.00981013],\n",
       "       [0.        , 0.24353767, 0.49342077, ..., 0.01351327, 0.00678906,\n",
       "        0.01851561],\n",
       "       ...,\n",
       "       [0.22727273, 0.58379392, 0.05904509, ..., 0.02169867, 0.01263643,\n",
       "        0.02335826],\n",
       "       [0.25757576, 0.20613371, 0.44739637, ..., 0.01228413, 0.00537354,\n",
       "        0.01107275],\n",
       "       [0.68181818, 0.68883447, 0.0279439 , ..., 0.02024874, 0.01222048,\n",
       "        0.01814555]])"
      ]
     },
     "execution_count": 13,
     "metadata": {},
     "output_type": "execute_result"
    }
   ],
   "source": [
    "## adding 2 helper functions for normalization ##\n",
    "def zero_one(x):\n",
    "  training_min = x.min(axis=0)\n",
    "  scale = x.max(axis=0) - training_min\n",
    "  return training_min, scale\n",
    "\n",
    "def standard(x):\n",
    "  mean = x.mean(axis=0)\n",
    "  std = x.std(axis=0)\n",
    "  return mean, std\n",
    "\n",
    "## normalization ##\n",
    "offset, scale = zero_one(training_features)\n",
    "\n",
    "training_features = (training_features - offset) / scale\n",
    "test_features = (test_features - offset) / scale\n",
    "\n",
    "test_features"
   ]
  },
  {
   "cell_type": "code",
   "execution_count": 14,
   "metadata": {
    "scrolled": true
   },
   "outputs": [
    {
     "name": "stderr",
     "output_type": "stream",
     "text": [
      "Using TensorFlow backend.\n"
     ]
    }
   ],
   "source": [
    "## TODO: changing to the c3 version of the TF ##\n",
    "\n",
    "## starting the tensorflow ##\n",
    "from tensorflow.keras.models import Sequential\n",
    "from tensorflow.keras.layers import Dense\n",
    "from tensorflow.keras.activations import relu\n",
    "from tensorflow.keras.regularizers import l2\n",
    "from tensorflow.keras.optimizers import Adam\n",
    "\n",
    "from keras import backend as K"
   ]
  },
  {
   "cell_type": "code",
   "execution_count": 15,
   "metadata": {},
   "outputs": [],
   "source": [
    "def root_mean_squared_error(y_true, y_pred):\n",
    "        return K.sqrt(K.mean(K.square(y_pred - y_true))) "
   ]
  },
  {
   "cell_type": "code",
   "execution_count": 16,
   "metadata": {},
   "outputs": [],
   "source": [
    "#training_features = np.array(training_features, dtype=np.float)\n",
    "#test_features = np.array(test_features, dtype=np.float)\n",
    "training_features = training_features.astype(\"float32\")\n",
    "test_features = test_features.astype(\"float32\")"
   ]
  },
  {
   "cell_type": "code",
   "execution_count": 17,
   "metadata": {},
   "outputs": [
    {
     "name": "stdout",
     "output_type": "stream",
     "text": [
      "Model: \"sequential\"\n",
      "_________________________________________________________________\n",
      "Layer (type)                 Output Shape              Param #   \n",
      "=================================================================\n",
      "dense (Dense)                (None, 300)               2400      \n",
      "_________________________________________________________________\n",
      "dense_1 (Dense)              (None, 300)               90300     \n",
      "_________________________________________________________________\n",
      "dense_2 (Dense)              (None, 300)               90300     \n",
      "_________________________________________________________________\n",
      "dense_3 (Dense)              (None, 1)                 301       \n",
      "=================================================================\n",
      "Total params: 183,301\n",
      "Trainable params: 183,301\n",
      "Non-trainable params: 0\n",
      "_________________________________________________________________\n"
     ]
    }
   ],
   "source": [
    "## tensorflow time ##\n",
    "## model with Regularization \n",
    "model = Sequential()\n",
    "model.add(Dense(300, input_shape=(7,), activation=relu, kernel_regularizer=l2(.001)))\n",
    "model.add(Dense(300, activation=relu, kernel_regularizer=l2(.001)))\n",
    "model.add(Dense(300, activation=relu, kernel_regularizer=l2(.001)))\n",
    "model.add(Dense(1))\n",
    "\n",
    "model.compile(loss='mse', optimizer=Adam(), metrics=['mse', 'msle', 'mape']) ##root_mean_squared_error, root_mean_squared_error\n",
    "model.summary()"
   ]
  },
  {
   "cell_type": "code",
   "execution_count": 18,
   "metadata": {},
   "outputs": [],
   "source": [
    "## change it to the C3 version ##\n",
    "\n",
    "#model.compile(loss='mean_squared_error', optimizer='sgd', metrics=['mse', 'mae'])\n",
    "##history = model.fit(training_features, training_labels, batch_size=1000, epochs=200)\n",
    "##score = model.evaluate(test_features, test_labels, batch_size=1000)\n",
    "##print(model.metrics_names)\n",
    "##print(score)"
   ]
  },
  {
   "cell_type": "code",
   "execution_count": 19,
   "metadata": {},
   "outputs": [],
   "source": [
    "c3_training_features = c3.Dataset.fromPython(pythonData=training_features)\n",
    "c3_test_features = c3.Dataset.fromPython(pythonData=test_features)\n",
    "c3_training_labels = c3.Dataset.fromPython(pythonData=training_labels)\n"
   ]
  },
  {
   "cell_type": "code",
   "execution_count": 20,
   "metadata": {},
   "outputs": [
    {
     "name": "stderr",
     "output_type": "stream",
     "text": [
      "<string>:1751: H5pyDeprecationWarning: The default file mode will change to 'r' (read-only) in h5py 3.0. To suppress this warning, pass the mode you need to h5py.File(), or set the global default h5.get_config().default_file_mode, or set the environment variable H5PY_DEFAULT_READONLY=1. Available modes are: 'r', 'r+', 'w', 'w-'/'x', 'a'. See the docs for details.\n"
     ]
    },
    {
     "data": {
      "text/plain": [
       "c3.Tensor(\n",
       " shape=c3.Arry<int>([3865, 1]),\n",
       " m_data=c3.Arry<double>([0.09631738066673279,\n",
       "          0.0881093442440033,\n",
       "          0.12448513507843018,\n",
       "          ...,\n",
       "          0.24108321964740753,\n",
       "          0.10471753776073456,\n",
       "          0.26663076877593994]))"
      ]
     },
     "execution_count": 20,
     "metadata": {},
     "output_type": "execute_result"
    }
   ],
   "source": [
    "## define the parameters ##\n",
    "epochs = 200\n",
    "batch_size = 1000\n",
    "\n",
    "## upsert the model into c3.KersaPipe() ##\n",
    "pipe = c3.KerasPipe().upsertNativeModel(model=model)\n",
    "pipe.technique.numEpochs = epochs\n",
    "pipe.technique.batchSize = batch_size\n",
    "trained_pipe = c3.KerasPipe.train(this=pipe, input=c3_training_features, targetOutput=c3_training_labels)\n",
    "result = c3.KerasPipe.process(this=trained_pipe, input=c3_test_features)\n",
    "\n",
    "result"
   ]
  },
  {
   "cell_type": "code",
   "execution_count": 21,
   "metadata": {},
   "outputs": [
    {
     "data": {
      "text/plain": [
       "array([[0.09631738],\n",
       "       [0.08810934],\n",
       "       [0.12448514],\n",
       "       ...,\n",
       "       [0.24108322],\n",
       "       [0.10471754],\n",
       "       [0.26663077]])"
      ]
     },
     "execution_count": 21,
     "metadata": {},
     "output_type": "execute_result"
    }
   ],
   "source": [
    "df_res = result.toNumpyArray()\n",
    "df_res"
   ]
  },
  {
   "cell_type": "code",
   "execution_count": 29,
   "metadata": {},
   "outputs": [
    {
     "name": "stdout",
     "output_type": "stream",
     "text": [
      "MSE:\n"
     ]
    },
    {
     "data": {
      "text/plain": [
       "0.0023226264145873752"
      ]
     },
     "execution_count": 29,
     "metadata": {},
     "output_type": "execute_result"
    }
   ],
   "source": [
    "## find the MSE ##\n",
    "import math\n",
    "print(\"MSE:\")\n",
    "np.mean((df_res.T - test_labels)**2)"
   ]
  },
  {
   "cell_type": "code",
   "execution_count": null,
   "metadata": {},
   "outputs": [],
   "source": [
    "## this is just a mock example for using KerasPipe to train ##"
   ]
  }
 ],
 "metadata": {
  "kernelspec": {
   "display_name": "Python 3",
   "language": "python",
   "name": "python3"
  },
  "language_info": {
   "codemirror_mode": {
    "name": "ipython",
    "version": 3
   },
   "file_extension": ".py",
   "mimetype": "text/x-python",
   "name": "python",
   "nbconvert_exporter": "python",
   "pygments_lexer": "ipython3",
   "version": "3.6.10"
  }
 },
 "nbformat": 4,
 "nbformat_minor": 4
}
